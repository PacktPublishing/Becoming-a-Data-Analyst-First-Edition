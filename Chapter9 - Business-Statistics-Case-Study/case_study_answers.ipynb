{
 "cells": [
  {
   "cell_type": "code",
   "execution_count": 2,
   "metadata": {},
   "outputs": [],
   "source": [
    "import pandas as pd\n",
    "\n",
    "df = pd.read_csv(r\"C:\\Users\\kedei\\OneDrive\\Documents\\Packt\\Becoming a Data Analyst\\Chapter 9\\employee_data (1).csv\")"
   ]
  },
  {
   "cell_type": "code",
   "execution_count": 3,
   "metadata": {},
   "outputs": [
    {
     "data": {
      "text/html": [
       "<div>\n",
       "<style scoped>\n",
       "    .dataframe tbody tr th:only-of-type {\n",
       "        vertical-align: middle;\n",
       "    }\n",
       "\n",
       "    .dataframe tbody tr th {\n",
       "        vertical-align: top;\n",
       "    }\n",
       "\n",
       "    .dataframe thead th {\n",
       "        text-align: right;\n",
       "    }\n",
       "</style>\n",
       "<table border=\"1\" class=\"dataframe\">\n",
       "  <thead>\n",
       "    <tr style=\"text-align: right;\">\n",
       "      <th></th>\n",
       "      <th>mean</th>\n",
       "      <th>median</th>\n",
       "      <th>min</th>\n",
       "      <th>max</th>\n",
       "      <th>Range</th>\n",
       "    </tr>\n",
       "    <tr>\n",
       "      <th>Department</th>\n",
       "      <th></th>\n",
       "      <th></th>\n",
       "      <th></th>\n",
       "      <th></th>\n",
       "      <th></th>\n",
       "    </tr>\n",
       "  </thead>\n",
       "  <tbody>\n",
       "    <tr>\n",
       "      <th>Finance</th>\n",
       "      <td>92390.420635</td>\n",
       "      <td>97169.0</td>\n",
       "      <td>30432</td>\n",
       "      <td>148800</td>\n",
       "      <td>118368</td>\n",
       "    </tr>\n",
       "    <tr>\n",
       "      <th>HR</th>\n",
       "      <td>88539.536364</td>\n",
       "      <td>86967.5</td>\n",
       "      <td>31435</td>\n",
       "      <td>149049</td>\n",
       "      <td>117614</td>\n",
       "    </tr>\n",
       "    <tr>\n",
       "      <th>IT</th>\n",
       "      <td>90646.800000</td>\n",
       "      <td>84137.0</td>\n",
       "      <td>30370</td>\n",
       "      <td>149357</td>\n",
       "      <td>118987</td>\n",
       "    </tr>\n",
       "    <tr>\n",
       "      <th>Sales</th>\n",
       "      <td>87534.525180</td>\n",
       "      <td>87556.0</td>\n",
       "      <td>31344</td>\n",
       "      <td>146591</td>\n",
       "      <td>115247</td>\n",
       "    </tr>\n",
       "  </tbody>\n",
       "</table>\n",
       "</div>"
      ],
      "text/plain": [
       "                    mean   median    min     max   Range\n",
       "Department                                              \n",
       "Finance     92390.420635  97169.0  30432  148800  118368\n",
       "HR          88539.536364  86967.5  31435  149049  117614\n",
       "IT          90646.800000  84137.0  30370  149357  118987\n",
       "Sales       87534.525180  87556.0  31344  146591  115247"
      ]
     },
     "execution_count": 3,
     "metadata": {},
     "output_type": "execute_result"
    }
   ],
   "source": [
    "# Descriptive Statistics\n",
    "\n",
    "# 1. Average, median, and range of salaries for each department\n",
    "df.groupby('Department')['Salary'].agg(['mean', 'median', 'min', 'max']).assign(Range=lambda x: x['max'] - x['min'])"
   ]
  },
  {
   "cell_type": "code",
   "execution_count": 4,
   "metadata": {},
   "outputs": [
    {
     "data": {
      "text/plain": [
       "PerformanceScore\n",
       "1    18.917431\n",
       "2    20.626168\n",
       "3    21.510000\n",
       "4    16.408602\n",
       "5    20.516484\n",
       "Name: Experience, dtype: float64"
      ]
     },
     "execution_count": 4,
     "metadata": {},
     "output_type": "execute_result"
    }
   ],
   "source": [
    "# 2. Average years of experience for each performance score category\n",
    "df.groupby('PerformanceScore')['Experience'].mean()"
   ]
  },
  {
   "cell_type": "code",
   "execution_count": 14,
   "metadata": {},
   "outputs": [
    {
     "data": {
      "text/plain": [
       "Ttest_indResult(statistic=0.5765101901266028, pvalue=0.5645308574581411)"
      ]
     },
     "execution_count": 14,
     "metadata": {},
     "output_type": "execute_result"
    }
   ],
   "source": [
    "from scipy.stats import ttest_ind\n",
    "\n",
    "# T-tests\n",
    "\n",
    "# 3. Difference in the average salary between male and female employees\n",
    "male_salary = df[df['Gender'] == 0]['Salary']\n",
    "female_salary = df[df['Gender'] == 1]['Salary']\n",
    "ttest_ind(male_salary, female_salary)"
   ]
  },
  {
   "cell_type": "code",
   "execution_count": 15,
   "metadata": {},
   "outputs": [
    {
     "data": {
      "text/plain": [
       "Ttest_indResult(statistic=1.1165192455147446, pvalue=0.2652228402907158)"
      ]
     },
     "execution_count": 15,
     "metadata": {},
     "output_type": "execute_result"
    }
   ],
   "source": [
    "# 4. Difference in the average years of experience between employees in the Sales department and the IT department\n",
    "sales_experience = df[df['Department'] == 'Sales']['Experience']\n",
    "it_experience = df[df['Department'] == 'IT']['Experience']\n",
    "ttest_ind(sales_experience, it_experience)"
   ]
  },
  {
   "cell_type": "code",
   "execution_count": 16,
   "metadata": {},
   "outputs": [
    {
     "data": {
      "text/plain": [
       "(0.9524777985073645,\n",
       " 0.8127487218092746,\n",
       " 3,\n",
       " array([[58.716, 51.26 , 58.25 , 64.774],\n",
       "        [67.284, 58.74 , 66.75 , 74.226]]))"
      ]
     },
     "execution_count": 16,
     "metadata": {},
     "output_type": "execute_result"
    }
   ],
   "source": [
    "from scipy.stats import chi2_contingency\n",
    "\n",
    "# Chi-Square Tests\n",
    "\n",
    "# 5. Association between gender and department\n",
    "gender_department_crosstab = pd.crosstab(df['Gender'], df['Department'])\n",
    "chi2_contingency(gender_department_crosstab)"
   ]
  },
  {
   "cell_type": "code",
   "execution_count": 17,
   "metadata": {},
   "outputs": [
    {
     "data": {
      "text/plain": [
       "(10.970002050110137,\n",
       " 0.5314912586403209,\n",
       " 12,\n",
       " array([[27.468, 26.964, 25.2  , 23.436, 22.932],\n",
       "        [23.98 , 23.54 , 22.   , 20.46 , 20.02 ],\n",
       "        [27.25 , 26.75 , 25.   , 23.25 , 22.75 ],\n",
       "        [30.302, 29.746, 27.8  , 25.854, 25.298]]))"
      ]
     },
     "execution_count": 17,
     "metadata": {},
     "output_type": "execute_result"
    }
   ],
   "source": [
    "# 6. Association between department and performance score\n",
    "department_performance_crosstab = pd.crosstab(df['Department'], df['PerformanceScore'])\n",
    "chi2_contingency(department_performance_crosstab)"
   ]
  },
  {
   "cell_type": "code",
   "execution_count": 18,
   "metadata": {},
   "outputs": [
    {
     "data": {
      "text/plain": [
       "F_onewayResult(statistic=0.49065755609772443, pvalue=0.6889162363930773)"
      ]
     },
     "execution_count": 18,
     "metadata": {},
     "output_type": "execute_result"
    }
   ],
   "source": [
    "from scipy.stats import f_oneway\n",
    "\n",
    "# ANOVA Tests\n",
    "\n",
    "# 7. Difference in the average salary among the different departments\n",
    "finance_salary = df[df['Department'] == 'Finance']['Salary']\n",
    "hr_salary = df[df['Department'] == 'HR']['Salary']\n",
    "it_salary = df[df['Department'] == 'IT']['Salary']\n",
    "sales_salary = df[df['Department'] == 'Sales']['Salary']\n",
    "f_oneway(finance_salary, hr_salary, it_salary, sales_salary)"
   ]
  },
  {
   "cell_type": "code",
   "execution_count": 10,
   "metadata": {},
   "outputs": [
    {
     "data": {
      "text/plain": [
       "F_onewayResult(statistic=0.49065755609772443, pvalue=0.6889162363930773)"
      ]
     },
     "execution_count": 10,
     "metadata": {},
     "output_type": "execute_result"
    }
   ],
   "source": [
    "from scipy.stats import f_oneway\n",
    "\n",
    "# ANOVA\n",
    "\n",
    "# 8. Difference in the average salary among the different departments\n",
    "finance_salary = df[df['Department'] == 'Finance']['Salary']\n",
    "hr_salary = df[df['Department'] == 'HR']['Salary']\n",
    "it_salary = df[df['Department'] == 'IT']['Salary']\n",
    "sales_salary = df[df['Department'] == 'Sales']['Salary']\n",
    "f_oneway(finance_salary, hr_salary, it_salary, sales_salary)"
   ]
  },
  {
   "cell_type": "code",
   "execution_count": 19,
   "metadata": {},
   "outputs": [
    {
     "data": {
      "text/plain": [
       "F_onewayResult(statistic=2.8176007175486597, pvalue=0.024755566806042253)"
      ]
     },
     "execution_count": 19,
     "metadata": {},
     "output_type": "execute_result"
    }
   ],
   "source": [
    "# 8. Difference in the average years of experience among the different performance score categories\n",
    "score1_experience = df[df['PerformanceScore'] == 1]['Experience']\n",
    "score2_experience = df[df['PerformanceScore'] == 2]['Experience']\n",
    "score3_experience = df[df['PerformanceScore'] == 3]['Experience']\n",
    "score4_experience = df[df['PerformanceScore'] == 4]['Experience']\n",
    "score5_experience = df[df['PerformanceScore'] == 5]['Experience']\n",
    "f_oneway(score1_experience, score2_experience, score3_experience, score4_experience, score5_experience)"
   ]
  },
  {
   "cell_type": "code",
   "execution_count": 12,
   "metadata": {},
   "outputs": [
    {
     "data": {
      "text/html": [
       "<div>\n",
       "<style scoped>\n",
       "    .dataframe tbody tr th:only-of-type {\n",
       "        vertical-align: middle;\n",
       "    }\n",
       "\n",
       "    .dataframe tbody tr th {\n",
       "        vertical-align: top;\n",
       "    }\n",
       "\n",
       "    .dataframe thead th {\n",
       "        text-align: right;\n",
       "    }\n",
       "</style>\n",
       "<table border=\"1\" class=\"dataframe\">\n",
       "  <thead>\n",
       "    <tr style=\"text-align: right;\">\n",
       "      <th></th>\n",
       "      <th>Experience</th>\n",
       "      <th>Salary</th>\n",
       "    </tr>\n",
       "  </thead>\n",
       "  <tbody>\n",
       "    <tr>\n",
       "      <th>Experience</th>\n",
       "      <td>1.000000</td>\n",
       "      <td>0.024478</td>\n",
       "    </tr>\n",
       "    <tr>\n",
       "      <th>Salary</th>\n",
       "      <td>0.024478</td>\n",
       "      <td>1.000000</td>\n",
       "    </tr>\n",
       "  </tbody>\n",
       "</table>\n",
       "</div>"
      ],
      "text/plain": [
       "            Experience    Salary\n",
       "Experience    1.000000  0.024478\n",
       "Salary        0.024478  1.000000"
      ]
     },
     "execution_count": 12,
     "metadata": {},
     "output_type": "execute_result"
    }
   ],
   "source": [
    "# Correlation between years of experience and salary\n",
    "df[['Experience', 'Salary']].corr()"
   ]
  },
  {
   "cell_type": "code",
   "execution_count": null,
   "metadata": {},
   "outputs": [],
   "source": []
  }
 ],
 "metadata": {
  "kernelspec": {
   "display_name": "base",
   "language": "python",
   "name": "python3"
  },
  "language_info": {
   "codemirror_mode": {
    "name": "ipython",
    "version": 3
   },
   "file_extension": ".py",
   "mimetype": "text/x-python",
   "name": "python",
   "nbconvert_exporter": "python",
   "pygments_lexer": "ipython3",
   "version": "3.9.13"
  },
  "orig_nbformat": 4
 },
 "nbformat": 4,
 "nbformat_minor": 2
}
